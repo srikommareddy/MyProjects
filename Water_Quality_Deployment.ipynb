{
 "cells": [
  {
   "cell_type": "code",
   "execution_count": 1,
   "id": "5ae4b14b",
   "metadata": {},
   "outputs": [],
   "source": [
    "import numpy as np\n",
    "import pandas as pd\n",
    "import matplotlib.pyplot as plt\n",
    "from warnings import filterwarnings\n",
    "import seaborn as sns\n",
    "from sklearn.impute import KNNImputer\n",
    "from sklearn.linear_model import LogisticRegression,RidgeClassifier,SGDClassifier,PassiveAggressiveClassifier\n",
    "from sklearn.ensemble import RandomForestClassifier,AdaBoostClassifier,GradientBoostingClassifier\n",
    "from xgboost import XGBClassifier\n",
    "from sklearn.neighbors import KNeighborsClassifier, NearestCentroid\n",
    "from sklearn.svm import SVC,LinearSVC,NuSVC\n",
    "from sklearn.linear_model import Perceptron\n",
    "from sklearn.tree import DecisionTreeClassifier\n",
    "from sklearn.ensemble import RandomForestClassifier,AdaBoostClassifier,GradientBoostingClassifier\n",
    "from sklearn.naive_bayes import GaussianNB,BernoulliNB\n",
    "from sklearn.ensemble import VotingClassifier\n",
    "filterwarnings('ignore')\n",
    "\n",
    "# Evaluation & CV Libraries\n",
    "from sklearn.metrics import precision_score,accuracy_score\n",
    "from sklearn.model_selection import RandomizedSearchCV,GridSearchCV,RepeatedStratifiedKFold"
   ]
  },
  {
   "cell_type": "code",
   "execution_count": 2,
   "id": "1cc4acb8",
   "metadata": {},
   "outputs": [],
   "source": [
    "WQ = pd.read_csv(\"water_potability.csv\")"
   ]
  },
  {
   "cell_type": "code",
   "execution_count": 3,
   "id": "dc7132c1",
   "metadata": {},
   "outputs": [
    {
     "name": "stdout",
     "output_type": "stream",
     "text": [
      "Data Before performing imputation\n",
      "             ph    Hardness        Solids  Chloramines     Sulfate  \\\n",
      "0          NaN  204.890455  20791.318981     7.300212  368.516441   \n",
      "1     3.716080  129.422921  18630.057858     6.635246         NaN   \n",
      "2     8.099124  224.236259  19909.541732     9.275884         NaN   \n",
      "3     8.316766  214.373394  22018.417441     8.059332  356.886136   \n",
      "4     9.092223  181.101509  17978.986339     6.546600  310.135738   \n",
      "...        ...         ...           ...          ...         ...   \n",
      "3271  4.668102  193.681735  47580.991603     7.166639  359.948574   \n",
      "3272  7.808856  193.553212  17329.802160     8.061362         NaN   \n",
      "3273  9.419510  175.762646  33155.578218     7.350233         NaN   \n",
      "3274  5.126763  230.603758  11983.869376     6.303357         NaN   \n",
      "3275  7.874671  195.102299  17404.177061     7.509306         NaN   \n",
      "\n",
      "      Conductivity  Organic_carbon  Trihalomethanes  Turbidity  Potability  \n",
      "0       564.308654       10.379783        86.990970   2.963135           0  \n",
      "1       592.885359       15.180013        56.329076   4.500656           0  \n",
      "2       418.606213       16.868637        66.420093   3.055934           0  \n",
      "3       363.266516       18.436524       100.341674   4.628771           0  \n",
      "4       398.410813       11.558279        31.997993   4.075075           0  \n",
      "...            ...             ...              ...        ...         ...  \n",
      "3271    526.424171       13.894419        66.687695   4.435821           1  \n",
      "3272    392.449580       19.903225              NaN   2.798243           1  \n",
      "3273    432.044783       11.039070        69.845400   3.298875           1  \n",
      "3274    402.883113       11.168946        77.488213   4.708658           1  \n",
      "3275    327.459760       16.140368        78.698446   2.309149           1  \n",
      "\n",
      "[3276 rows x 10 columns]\n",
      "\n",
      "\n",
      "After performing imputation\n",
      "             ph    Hardness        Solids  Chloramines     Sulfate  \\\n",
      "0     6.586912  204.890455  20791.318981     7.300212  368.516441   \n",
      "1     3.716080  129.422921  18630.057858     6.635246  342.019682   \n",
      "2     8.099124  224.236259  19909.541732     9.275884  338.289853   \n",
      "3     8.316766  214.373394  22018.417441     8.059332  356.886136   \n",
      "4     9.092223  181.101509  17978.986339     6.546600  310.135738   \n",
      "...        ...         ...           ...          ...         ...   \n",
      "3271  4.668102  193.681735  47580.991603     7.166639  359.948574   \n",
      "3272  7.808856  193.553212  17329.802160     8.061362  356.591321   \n",
      "3273  9.419510  175.762646  33155.578218     7.350233  318.020387   \n",
      "3274  5.126763  230.603758  11983.869376     6.303357  320.470449   \n",
      "3275  7.874671  195.102299  17404.177061     7.509306  338.788763   \n",
      "\n",
      "      Conductivity  Organic_carbon  Trihalomethanes  Turbidity  Potability  \n",
      "0       564.308654       10.379783        86.990970   2.963135         0.0  \n",
      "1       592.885359       15.180013        56.329076   4.500656         0.0  \n",
      "2       418.606213       16.868637        66.420093   3.055934         0.0  \n",
      "3       363.266516       18.436524       100.341674   4.628771         0.0  \n",
      "4       398.410813       11.558279        31.997993   4.075075         0.0  \n",
      "...            ...             ...              ...        ...         ...  \n",
      "3271    526.424171       13.894419        66.687695   4.435821         1.0  \n",
      "3272    392.449580       19.903225        59.152341   2.798243         1.0  \n",
      "3273    432.044783       11.039070        69.845400   3.298875         1.0  \n",
      "3274    402.883113       11.168946        77.488213   4.708658         1.0  \n",
      "3275    327.459760       16.140368        78.698446   2.309149         1.0  \n",
      "\n",
      "[3276 rows x 10 columns]\n"
     ]
    }
   ],
   "source": [
    "# Impute the missing values\n",
    "Before_imputation = WQ\n",
    "#print dataset before imputaion\n",
    "print(\"Data Before performing imputation\\n\",WQ)\n",
    "  \n",
    "# create an object for KNNImputer\n",
    "imputer = KNNImputer(n_neighbors=4)\n",
    "After_Imputation = imputer.fit_transform(Before_imputation)\n",
    "WQI = pd.DataFrame(After_Imputation)\n",
    "WQI.rename(columns = {0:'ph', 1:'Hardness', 2:'Solids', 3:'Chloramines', 4:'Sulfate', 5:'Conductivity', 6:'Organic_carbon', 7:'Trihalomethanes', 8:'Turbidity', 9:'Potability'}, inplace = True)\n",
    "print(\"\\n\\nAfter performing imputation\\n\",WQI)"
   ]
  },
  {
   "cell_type": "code",
   "execution_count": 4,
   "id": "65905757",
   "metadata": {},
   "outputs": [],
   "source": [
    "# Import Data Pre-processing Libraries\n",
    "from sklearn.preprocessing import StandardScaler,MinMaxScaler\n",
    "from sklearn.model_selection import train_test_split"
   ]
  },
  {
   "cell_type": "code",
   "execution_count": 5,
   "id": "174c8b3d",
   "metadata": {},
   "outputs": [],
   "source": [
    "# RSeparate the data set columns in to dependant and independant variables\n",
    "X = WQI.drop('Potability',axis=1).values\n",
    "y = WQI['Potability'].values\n",
    "\n",
    "# Split the dataset into train test parts\n",
    "X_train, X_test, y_train, y_test = train_test_split(X, y, test_size=0.25, random_state=101)"
   ]
  },
  {
   "cell_type": "code",
   "execution_count": 6,
   "id": "ecaa2000",
   "metadata": {},
   "outputs": [],
   "source": [
    "# Standardisation of data\n",
    "scaler = StandardScaler()\n",
    "scaler.fit(X_train)\n",
    "X_train_t = scaler.transform(X_train)\n",
    "X_test = scaler.transform(X_test)\n",
    "#Sample = [[6, 250, 20000, 5, 259, 350, 6, 58, 4]]\n",
    "#X_Sample = scaler.transform(Sample)\n",
    "#print(X_Sample)"
   ]
  },
  {
   "cell_type": "code",
   "execution_count": 7,
   "id": "3b430d54",
   "metadata": {},
   "outputs": [],
   "source": [
    "# import SMOTE module from imblearn library\n",
    "from imblearn.over_sampling import SMOTE\n",
    "sm = SMOTE(random_state = 2)\n",
    "X_train_res, y_train_res = sm.fit_resample(X_train_t, y_train.ravel())"
   ]
  },
  {
   "cell_type": "code",
   "execution_count": 8,
   "id": "0c542423",
   "metadata": {},
   "outputs": [],
   "source": [
    "# Defining model parameters\n",
    "model_params = {\n",
    "    'GB':\n",
    "    {\n",
    "        'model':GradientBoostingClassifier(),\n",
    "        'params':\n",
    "        {\n",
    "            'learning_rate':[0.1],\n",
    "            'n_estimators':[500],\n",
    "            'max_features':['log2'],\n",
    "            'max_depth':[9]\n",
    "        }\n",
    "    }\n",
    "}\n"
   ]
  },
  {
   "cell_type": "code",
   "execution_count": 9,
   "id": "066d2074",
   "metadata": {},
   "outputs": [
    {
     "data": {
      "text/html": [
       "<div>\n",
       "<style scoped>\n",
       "    .dataframe tbody tr th:only-of-type {\n",
       "        vertical-align: middle;\n",
       "    }\n",
       "\n",
       "    .dataframe tbody tr th {\n",
       "        vertical-align: top;\n",
       "    }\n",
       "\n",
       "    .dataframe thead th {\n",
       "        text-align: right;\n",
       "    }\n",
       "</style>\n",
       "<table border=\"1\" class=\"dataframe\">\n",
       "  <thead>\n",
       "    <tr style=\"text-align: right;\">\n",
       "      <th></th>\n",
       "      <th>Model</th>\n",
       "      <th>Parameters</th>\n",
       "      <th>Score</th>\n",
       "    </tr>\n",
       "  </thead>\n",
       "  <tbody>\n",
       "    <tr>\n",
       "      <th>0</th>\n",
       "      <td>GB</td>\n",
       "      <td>{'n_estimators': 500, 'max_features': 'log2', ...</td>\n",
       "      <td>0.717656</td>\n",
       "    </tr>\n",
       "  </tbody>\n",
       "</table>\n",
       "</div>"
      ],
      "text/plain": [
       "  Model                              Parameters                Score\n",
       "0    GB  {'n_estimators': 500, 'max_features': 'log2', ...  0.717656"
      ]
     },
     "execution_count": 9,
     "metadata": {},
     "output_type": "execute_result"
    }
   ],
   "source": [
    "cv = RepeatedStratifiedKFold(n_splits=5,n_repeats=2)\n",
    "scores=[]\n",
    "for model_name,params in model_params.items():\n",
    "    rs = RandomizedSearchCV(params['model'],params['params'],cv=cv,n_iter=20)\n",
    "    rs.fit(X_train_res,y_train_res)\n",
    "    rs_prediction = rs.predict(X_test)\n",
    "    #scores_test = precision_score(y_test, rs_prediction,average='macro')\n",
    "    scores.append([model_name,dict(rs.best_params_),rs.best_score_])\n",
    "    #print(model_name,scores_test)\n",
    "data=pd.DataFrame(scores,columns=['Model','          Parameters           ','Score'])\n",
    "data.style.set_properties(subset=['Parameters'], **{'width': '400px'})\n",
    "data"
   ]
  },
  {
   "cell_type": "code",
   "execution_count": 10,
   "id": "a4cc594a",
   "metadata": {},
   "outputs": [
    {
     "name": "stdout",
     "output_type": "stream",
     "text": [
      "GB 0.6472004758615396 0.6678876678876678\n"
     ]
    }
   ],
   "source": [
    "rs_prediction = rs.predict(X_test)\n",
    "score_test_precision = precision_score(y_test, rs_prediction,average='macro')\n",
    "score_test_accuracy = accuracy_score(y_test, rs_prediction)\n",
    "print(model_name,score_test_precision, score_test_accuracy)"
   ]
  },
  {
   "cell_type": "code",
   "execution_count": 11,
   "id": "c17dd59f",
   "metadata": {},
   "outputs": [],
   "source": [
    "import pickle \n",
    "pickle_out = open(\"classifier.pkl\", mode = \"wb\") \n",
    "pickle.dump(rs, pickle_out) \n",
    "pickle_out.close()"
   ]
  },
  {
   "cell_type": "code",
   "execution_count": 12,
   "id": "3d14645d",
   "metadata": {},
   "outputs": [
    {
     "name": "stdout",
     "output_type": "stream",
     "text": [
      "              precision    recall  f1-score   support\n",
      "\n",
      "         0.0       0.73      0.74      0.73       506\n",
      "         1.0       0.57      0.55      0.56       313\n",
      "\n",
      "    accuracy                           0.67       819\n",
      "   macro avg       0.65      0.65      0.65       819\n",
      "weighted avg       0.67      0.67      0.67       819\n",
      "\n"
     ]
    }
   ],
   "source": [
    "from sklearn.metrics import classification_report, confusion_matrix\n",
    "print(classification_report(y_test, rs_prediction))"
   ]
  },
  {
   "cell_type": "code",
   "execution_count": 13,
   "id": "0aface8e",
   "metadata": {},
   "outputs": [
    {
     "name": "stdout",
     "output_type": "stream",
     "text": [
      "[[375 131]\n",
      " [141 172]]\n"
     ]
    }
   ],
   "source": [
    "print(confusion_matrix(y_test, rs_prediction))"
   ]
  },
  {
   "cell_type": "code",
   "execution_count": null,
   "id": "c4dd60cd",
   "metadata": {},
   "outputs": [],
   "source": []
  },
  {
   "cell_type": "code",
   "execution_count": null,
   "id": "925ced5c",
   "metadata": {},
   "outputs": [],
   "source": []
  },
  {
   "cell_type": "code",
   "execution_count": 14,
   "id": "62b6a9a6",
   "metadata": {},
   "outputs": [
    {
     "data": {
      "text/plain": [
       "array([[-0.71860171,  1.64439984, -0.23751439, -1.34421881, -1.96740767,\n",
       "        -0.95757518, -2.52663952, -0.54923047,  0.02857098],\n",
       "       [-3.41051783,  5.3261417 ,  2.04425412,  3.08064748, 14.98782357,\n",
       "         4.63843525,  0.22124304,  2.73616009, 10.32625122]])"
      ]
     },
     "execution_count": 14,
     "metadata": {},
     "output_type": "execute_result"
    }
   ],
   "source": [
    "Sample = [[6, 250, 20000, 5, 259, 350, 6, 58, 4],[2,370,40000, 12, 900,800,15,110,12]]\n",
    "# Standardisation of data\n",
    "#scaler = StandardScaler()\n",
    "#scaler.fit(X_train)\n",
    "X_Sample= scaler.transform(Sample)\n",
    "X_Sample"
   ]
  },
  {
   "cell_type": "code",
   "execution_count": 15,
   "id": "06aefe4b",
   "metadata": {},
   "outputs": [
    {
     "data": {
      "text/plain": [
       "array([1., 0.])"
      ]
     },
     "execution_count": 15,
     "metadata": {},
     "output_type": "execute_result"
    }
   ],
   "source": [
    "rs.predict(X_Sample)"
   ]
  },
  {
   "cell_type": "code",
   "execution_count": null,
   "id": "b5f0c8b1",
   "metadata": {},
   "outputs": [],
   "source": []
  },
  {
   "cell_type": "code",
   "execution_count": null,
   "id": "8a366f79",
   "metadata": {},
   "outputs": [],
   "source": []
  },
  {
   "cell_type": "code",
   "execution_count": null,
   "id": "5d3ac006",
   "metadata": {},
   "outputs": [],
   "source": []
  }
 ],
 "metadata": {
  "kernelspec": {
   "display_name": "Python 3",
   "language": "python",
   "name": "python3"
  },
  "language_info": {
   "codemirror_mode": {
    "name": "ipython",
    "version": 3
   },
   "file_extension": ".py",
   "mimetype": "text/x-python",
   "name": "python",
   "nbconvert_exporter": "python",
   "pygments_lexer": "ipython3",
   "version": "3.8.8"
  }
 },
 "nbformat": 4,
 "nbformat_minor": 5
}
